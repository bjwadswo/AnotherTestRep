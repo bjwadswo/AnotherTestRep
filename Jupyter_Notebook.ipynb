{
 "cells": [
  {
   "cell_type": "markdown",
   "id": "8631487d-e79e-4bb6-905f-dade237d2bca",
   "metadata": {},
   "source": [
    "# My Jupyter Notebook on IBM Watson Studio"
   ]
  },
  {
   "cell_type": "markdown",
   "id": "9c228141-7c7d-4196-b100-95a60623f315",
   "metadata": {},
   "source": [
    "**Brennan Wadsworth**\n",
    "Aspiring Data Scientist"
   ]
  },
  {
   "cell_type": "markdown",
   "id": "58766c95-0e45-4014-884b-2ed07a310c62",
   "metadata": {},
   "source": [
    "*I am interested in data science because I enjoy the puzzle-solving nature of explaining patterns in data, expecially when this leads to useful decision making insights.*"
   ]
  },
  {
   "cell_type": "markdown",
   "id": "83cf5f0b-0bef-42ae-bb90-44399c742769",
   "metadata": {},
   "source": [
    "The code below will find the sum of 6 and 4."
   ]
  },
  {
   "cell_type": "code",
   "execution_count": 5,
   "id": "de1f2771-66db-4c84-a531-0f217b9a8e24",
   "metadata": {},
   "outputs": [
    {
     "data": {
      "text/plain": [
       "10"
      ]
     },
     "execution_count": 5,
     "metadata": {},
     "output_type": "execute_result"
    }
   ],
   "source": [
    "6+4"
   ]
  },
  {
   "cell_type": "markdown",
   "id": "70499b80-f93e-454f-9820-ee9086fe830e",
   "metadata": {},
   "source": [
    "<s>strikethrough</s>\n",
    "\n",
    "<ol> \n",
    "    <li>ordered list 1</li> \n",
    "    <li>ordered list 2</li> \n",
    "    <li>ordered list 3</li> \n",
    "</ol>\n",
    "\n",
    "\n",
    "|label1|label2|\n",
    "|------|------|\n",
    "|item1|item2|\n",
    "|item3|item4|\n"
   ]
  }
 ],
 "metadata": {
  "kernelspec": {
   "display_name": "Python 3 (ipykernel)",
   "language": "python",
   "name": "python3"
  },
  "language_info": {
   "codemirror_mode": {
    "name": "ipython",
    "version": 3
   },
   "file_extension": ".py",
   "mimetype": "text/x-python",
   "name": "python",
   "nbconvert_exporter": "python",
   "pygments_lexer": "ipython3",
   "version": "3.10.6"
  }
 },
 "nbformat": 4,
 "nbformat_minor": 5
}
